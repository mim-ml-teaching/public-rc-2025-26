{
 "cells": [
  {
   "cell_type": "code",
   "execution_count": 4,
   "metadata": {},
   "outputs": [],
   "source": [
    "import numpy as np"
   ]
  },
  {
   "cell_type": "code",
   "execution_count": 8,
   "metadata": {},
   "outputs": [],
   "source": [
    "camera_matrix = np.array([[5, 0, 300, 0],\n",
    "                          [0, 5, 200, 0],\n",
    "                          [0, 0, 1, 0]])"
   ]
  },
  {
   "cell_type": "code",
   "execution_count": 15,
   "metadata": {},
   "outputs": [
    {
     "name": "stdout",
     "output_type": "stream",
     "text": [
      "[1525 1025    5]\n",
      "[1525 1020    5]\n"
     ]
    },
    {
     "data": {
      "text/plain": [
       "5.0"
      ]
     },
     "execution_count": 15,
     "metadata": {},
     "output_type": "execute_result"
    }
   ],
   "source": [
    "print(camera_matrix @ [5, 5, 5, 1])\n",
    "print(camera_matrix @ [5, 4, 5, 1])\n",
    "\n",
    "np.linalg.norm(camera_matrix @ [5, 5, 5, 1] - camera_matrix @ [5, 4, 5, 1])\n"
   ]
  }
 ],
 "metadata": {
  "kernelspec": {
   "display_name": "pybullet",
   "language": "python",
   "name": "python3"
  },
  "language_info": {
   "codemirror_mode": {
    "name": "ipython",
    "version": 3
   },
   "file_extension": ".py",
   "mimetype": "text/x-python",
   "name": "python",
   "nbconvert_exporter": "python",
   "pygments_lexer": "ipython3",
   "version": "3.10.8"
  },
  "orig_nbformat": 4,
  "vscode": {
   "interpreter": {
    "hash": "40ca85f6020a7594949e86e62d2cbdb80ed2441ae9410c28fa28890e85aef1cf"
   }
  }
 },
 "nbformat": 4,
 "nbformat_minor": 2
}
